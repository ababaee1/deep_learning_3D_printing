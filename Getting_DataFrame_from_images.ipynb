{
 "cells": [
  {
   "cell_type": "code",
   "execution_count": 1,
   "id": "132a79b5-8b54-4ea8-ad36-e76baa91cacd",
   "metadata": {},
   "outputs": [],
   "source": [
    "# importing libraries \n",
    "import numpy as np\n",
    "import matplotlib.pyplot as plt\n",
    "import pandas as pd\n",
    "import tensorflow as tf\n",
    "import seaborn as sb\n",
    "import tensorflow as tf\n",
    "from keras.preprocessing.image import ImageDataGenerator\n",
    "import keras.utils\n",
    "from sklearn.model_selection import train_test_split\n",
    "from sklearn.model_selection import RandomizedSearchCV\n",
    "from sklearn.metrics import classification_report\n",
    "from sklearn.metrics import ConfusionMatrixDisplay\n",
    "from sklearn.preprocessing import StandardScaler\n",
    "from sklearn.decomposition import PCA\n",
    "from sklearn.svm import SVC\n",
    "from sklearn.utils.fixes import loguniform"
   ]
  },
  {
   "cell_type": "code",
   "execution_count": 2,
   "id": "8708f779-a8d5-4c6d-98fa-988714c17d2f",
   "metadata": {},
   "outputs": [],
   "source": [
    "# importing the Elastic Modulus as the output \n",
    "# Data are imported from the 3-point bending experiment \n",
    "\n",
    "E=np.array ([54.84,21.9,\n",
    "32.43,\n",
    "23.13,\n",
    "64.28,\n",
    "17.95,\n",
    "17.67,\n",
    "39.44,\n",
    "9.33,\n",
    "40.68,\n",
    "26.56,\n",
    "32.69,\n",
    "57.93,\n",
    "67.88,\n",
    "222.46,\n",
    "])\n",
    "\n",
    "# repeating the E for the 8 different augmented images (rotated, mirrored, etc.) as they are having the same E \n",
    "y=np.repeat(E, 8)"
   ]
  },
  {
   "cell_type": "code",
   "execution_count": 3,
   "id": "b6804eed-f135-4848-8343-011a2b208841",
   "metadata": {},
   "outputs": [
    {
     "name": "stdout",
     "output_type": "stream",
     "text": [
      "test_image/\n",
      "test_image/B10.png\n",
      "[ 40.68  24.   167.   ...   0.     0.     0.  ]\n",
      "test_image/B11.png\n",
      "[ 26.56  24.   167.   ...   0.     0.     0.  ]\n",
      "test_image/B15.png\n",
      "[222.46  24.   167.   ...   0.     0.     0.  ]\n",
      "test_image/RP_B01-02.png\n",
      "[ 54.84  24.   167.   ...   0.     0.     0.  ]\n",
      "test_image/RP_B02-34.png\n",
      "[ 21.9  20.  191.  ...   0.    0.    0. ]\n",
      "test_image/RP_B04-39.png\n",
      "[23.13 24.   66.   ... 60.    0.    0.  ]\n",
      "test_image/RP_B07-23.png\n",
      "[17.67  0.    0.   ...  0.    0.    0.  ]\n",
      "test_image/RP_B08-04.png\n",
      "[ 39.44  25.   154.   ...   0.     0.     0.  ]\n"
     ]
    },
    {
     "name": "stderr",
     "output_type": "stream",
     "text": [
      "C:\\Users\\Alireza Babaee\\AppData\\Local\\Temp\\ipykernel_36860\\1576525877.py:43: DeprecationWarning: `np.int` is a deprecated alias for the builtin `int`. To silence this warning, use `int` by itself. Doing this will not modify any behavior and is safe. When replacing `np.int`, you may wish to use e.g. `np.int64` or `np.int32` to specify the precision. If you wish to review your current use, check the release note link for additional information.\n",
      "Deprecated in NumPy 1.20; for more details and guidance: https://numpy.org/devdocs/release/1.20.0-notes.html#deprecations\n",
      "  value = np.asarray(img_grey.getdata(), dtype=np.int).reshape((width, height))\n"
     ]
    }
   ],
   "source": [
    "import glob\n",
    "import os\n",
    "from PIL import Image,ImageOps\n",
    "import csv\n",
    "\n",
    "# default format can be changed as needed\n",
    "def createFileList(myDir, format='.png'):\n",
    "    fileList = []\n",
    "    print(myDir)\n",
    "    labels = []\n",
    "    names = []\n",
    "    keywords = {\"B01\" : E[0],\"B02\": E[1], \"B03\": E[2], \"B04\": E[3], \"B05\": E[4], \"B06\": E[5], \"B07\": E[6], \"B08\": E[7],\n",
    "               \"B09\": E[8], \"B10\": E[9], \"B11\": E[10], \"B12\": E[11], \"B13\": E[12], \"B14\": E[13], \"B15\": E[14]} # keys and values to be changed as needed\n",
    "    for root, dirs, files in os.walk(myDir, topdown=True):\n",
    "        for name in files:\n",
    "            if name.endswith(format):\n",
    "                fullName = os.path.join(root, name)\n",
    "                fileList.append(fullName)\n",
    "            for keyword in keywords:\n",
    "                if keyword in name:\n",
    "                    labels.append(keywords[keyword])\n",
    "                else:\n",
    "                    continue\n",
    "            names.append(name)\n",
    "    return fileList, labels, names\n",
    "\n",
    "# load the original image\n",
    "myFileList, labels, names  = createFileList('image_256/')\n",
    "i = 0\n",
    "for file in myFileList:\n",
    "    print(file)\n",
    "    img_file = Image.open(file)\n",
    "    # img_file.show()\n",
    "# get original image parameters...\n",
    "    width, height = img_file.size\n",
    "    format = img_file.format\n",
    "    mode = img_file.mode\n",
    "# Make image Greyscale\n",
    "    img_grey = img_file.convert('L')\n",
    "    #img_grey.save('result.png')\n",
    "    #img_grey.show()\n",
    "# Save Greyscale values\n",
    "    value = np.asarray(img_grey.getdata(), dtype=np.int).reshape((width, height))\n",
    "    value = value.flatten()\n",
    "    value = np.append(labels[i],value)\n",
    "    i +=1\n",
    "    \n",
    "    print(value)\n",
    "    with open(\"train_image_256\", 'a') as f:\n",
    "        writer = csv.writer(f)\n",
    "        writer.writerow(value)"
   ]
  }
 ],
 "metadata": {
  "kernelspec": {
   "display_name": "Python 3 (ipykernel)",
   "language": "python",
   "name": "python3"
  },
  "language_info": {
   "codemirror_mode": {
    "name": "ipython",
    "version": 3
   },
   "file_extension": ".py",
   "mimetype": "text/x-python",
   "name": "python",
   "nbconvert_exporter": "python",
   "pygments_lexer": "ipython3",
   "version": "3.9.12"
  }
 },
 "nbformat": 4,
 "nbformat_minor": 5
}
